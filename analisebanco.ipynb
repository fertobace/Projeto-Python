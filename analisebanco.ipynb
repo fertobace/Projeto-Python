{
 "cells": [
  {
   "cell_type": "code",
   "execution_count": 4,
   "id": "55d2feb2-378b-41d1-8024-5a3c4fedf8af",
   "metadata": {},
   "outputs": [],
   "source": [
    "import pandas as pd \n",
    "import numpy as np\n",
    "import matplotlib.pyplot as plt\n",
    "import seaborn as sns\n",
    "plt.style.use('ggplot')"
   ]
  },
  {
   "cell_type": "markdown",
   "id": "6f5dc46d-55ba-4f9e-8394-ab25f0ed9c21",
   "metadata": {},
   "source": [
    "**INTRODUÇÃO**"
   ]
  },
  {
   "cell_type": "markdown",
   "id": "5b05b1cc-5ee1-4ed3-ab23-99a87c8a8c63",
   "metadata": {},
   "source": [
    "Este projeto de análise de dados tem como objetivo explorar o desempenho de uma campanha de marketing direto realizada por uma instituição bancária. A campanha foi voltada para a promoção de depósitos a prazo, um produto financeiro estratégico para o banco. Utilizando um conjunto de dados detalhado com informações demográficas, financeiras e comportamentais dos clientes, o projeto busca identificar padrões, tendências e fatores que influenciam a aceitação ou rejeição da oferta de depósito."
   ]
  },
  {
   "cell_type": "markdown",
   "id": "020ee92a-76f9-4c40-8421-0da4d2bc1926",
   "metadata": {},
   "source": [
    "**Primeiramente fazendo a analise dos dados e se precisa de tratamentos**"
   ]
  },
  {
   "cell_type": "code",
   "execution_count": 6,
   "id": "60abc079-57cc-4d5a-afce-95f4ad2e566f",
   "metadata": {},
   "outputs": [
    {
     "data": {
      "text/html": [
       "<div>\n",
       "<style scoped>\n",
       "    .dataframe tbody tr th:only-of-type {\n",
       "        vertical-align: middle;\n",
       "    }\n",
       "\n",
       "    .dataframe tbody tr th {\n",
       "        vertical-align: top;\n",
       "    }\n",
       "\n",
       "    .dataframe thead th {\n",
       "        text-align: right;\n",
       "    }\n",
       "</style>\n",
       "<table border=\"1\" class=\"dataframe\">\n",
       "  <thead>\n",
       "    <tr style=\"text-align: right;\">\n",
       "      <th></th>\n",
       "      <th>age</th>\n",
       "      <th>job</th>\n",
       "      <th>marital</th>\n",
       "      <th>education</th>\n",
       "      <th>default</th>\n",
       "      <th>balance</th>\n",
       "      <th>housing</th>\n",
       "      <th>loan</th>\n",
       "      <th>contact</th>\n",
       "      <th>day</th>\n",
       "      <th>month</th>\n",
       "      <th>duration</th>\n",
       "      <th>campaign</th>\n",
       "      <th>pdays</th>\n",
       "      <th>previous</th>\n",
       "      <th>poutcome</th>\n",
       "      <th>deposit</th>\n",
       "    </tr>\n",
       "  </thead>\n",
       "  <tbody>\n",
       "    <tr>\n",
       "      <th>0</th>\n",
       "      <td>59</td>\n",
       "      <td>admin.</td>\n",
       "      <td>married</td>\n",
       "      <td>secondary</td>\n",
       "      <td>no</td>\n",
       "      <td>2343</td>\n",
       "      <td>yes</td>\n",
       "      <td>no</td>\n",
       "      <td>unknown</td>\n",
       "      <td>5</td>\n",
       "      <td>may</td>\n",
       "      <td>1042</td>\n",
       "      <td>1</td>\n",
       "      <td>-1</td>\n",
       "      <td>0</td>\n",
       "      <td>unknown</td>\n",
       "      <td>yes</td>\n",
       "    </tr>\n",
       "    <tr>\n",
       "      <th>1</th>\n",
       "      <td>56</td>\n",
       "      <td>admin.</td>\n",
       "      <td>married</td>\n",
       "      <td>secondary</td>\n",
       "      <td>no</td>\n",
       "      <td>45</td>\n",
       "      <td>no</td>\n",
       "      <td>no</td>\n",
       "      <td>unknown</td>\n",
       "      <td>5</td>\n",
       "      <td>may</td>\n",
       "      <td>1467</td>\n",
       "      <td>1</td>\n",
       "      <td>-1</td>\n",
       "      <td>0</td>\n",
       "      <td>unknown</td>\n",
       "      <td>yes</td>\n",
       "    </tr>\n",
       "    <tr>\n",
       "      <th>2</th>\n",
       "      <td>41</td>\n",
       "      <td>technician</td>\n",
       "      <td>married</td>\n",
       "      <td>secondary</td>\n",
       "      <td>no</td>\n",
       "      <td>1270</td>\n",
       "      <td>yes</td>\n",
       "      <td>no</td>\n",
       "      <td>unknown</td>\n",
       "      <td>5</td>\n",
       "      <td>may</td>\n",
       "      <td>1389</td>\n",
       "      <td>1</td>\n",
       "      <td>-1</td>\n",
       "      <td>0</td>\n",
       "      <td>unknown</td>\n",
       "      <td>yes</td>\n",
       "    </tr>\n",
       "    <tr>\n",
       "      <th>3</th>\n",
       "      <td>55</td>\n",
       "      <td>services</td>\n",
       "      <td>married</td>\n",
       "      <td>secondary</td>\n",
       "      <td>no</td>\n",
       "      <td>2476</td>\n",
       "      <td>yes</td>\n",
       "      <td>no</td>\n",
       "      <td>unknown</td>\n",
       "      <td>5</td>\n",
       "      <td>may</td>\n",
       "      <td>579</td>\n",
       "      <td>1</td>\n",
       "      <td>-1</td>\n",
       "      <td>0</td>\n",
       "      <td>unknown</td>\n",
       "      <td>yes</td>\n",
       "    </tr>\n",
       "    <tr>\n",
       "      <th>4</th>\n",
       "      <td>54</td>\n",
       "      <td>admin.</td>\n",
       "      <td>married</td>\n",
       "      <td>tertiary</td>\n",
       "      <td>no</td>\n",
       "      <td>184</td>\n",
       "      <td>no</td>\n",
       "      <td>no</td>\n",
       "      <td>unknown</td>\n",
       "      <td>5</td>\n",
       "      <td>may</td>\n",
       "      <td>673</td>\n",
       "      <td>2</td>\n",
       "      <td>-1</td>\n",
       "      <td>0</td>\n",
       "      <td>unknown</td>\n",
       "      <td>yes</td>\n",
       "    </tr>\n",
       "  </tbody>\n",
       "</table>\n",
       "</div>"
      ],
      "text/plain": [
       "   age         job  marital  education default  balance housing loan  contact  \\\n",
       "0   59      admin.  married  secondary      no     2343     yes   no  unknown   \n",
       "1   56      admin.  married  secondary      no       45      no   no  unknown   \n",
       "2   41  technician  married  secondary      no     1270     yes   no  unknown   \n",
       "3   55    services  married  secondary      no     2476     yes   no  unknown   \n",
       "4   54      admin.  married   tertiary      no      184      no   no  unknown   \n",
       "\n",
       "   day month  duration  campaign  pdays  previous poutcome deposit  \n",
       "0    5   may      1042         1     -1         0  unknown     yes  \n",
       "1    5   may      1467         1     -1         0  unknown     yes  \n",
       "2    5   may      1389         1     -1         0  unknown     yes  \n",
       "3    5   may       579         1     -1         0  unknown     yes  \n",
       "4    5   may       673         2     -1         0  unknown     yes  "
      ]
     },
     "execution_count": 6,
     "metadata": {},
     "output_type": "execute_result"
    }
   ],
   "source": [
    "df = pd.read_csv('bank.csv')\n",
    "df.head()"
   ]
  },
  {
   "cell_type": "code",
   "execution_count": 8,
   "id": "f06435da-9ad7-4df5-825a-5eeec86ca8ad",
   "metadata": {},
   "outputs": [
    {
     "name": "stdout",
     "output_type": "stream",
     "text": [
      "<class 'pandas.core.frame.DataFrame'>\n",
      "RangeIndex: 11162 entries, 0 to 11161\n",
      "Data columns (total 17 columns):\n",
      " #   Column     Non-Null Count  Dtype \n",
      "---  ------     --------------  ----- \n",
      " 0   age        11162 non-null  int64 \n",
      " 1   job        11162 non-null  object\n",
      " 2   marital    11162 non-null  object\n",
      " 3   education  11162 non-null  object\n",
      " 4   default    11162 non-null  object\n",
      " 5   balance    11162 non-null  int64 \n",
      " 6   housing    11162 non-null  object\n",
      " 7   loan       11162 non-null  object\n",
      " 8   contact    11162 non-null  object\n",
      " 9   day        11162 non-null  int64 \n",
      " 10  month      11162 non-null  object\n",
      " 11  duration   11162 non-null  int64 \n",
      " 12  campaign   11162 non-null  int64 \n",
      " 13  pdays      11162 non-null  int64 \n",
      " 14  previous   11162 non-null  int64 \n",
      " 15  poutcome   11162 non-null  object\n",
      " 16  deposit    11162 non-null  object\n",
      "dtypes: int64(7), object(10)\n",
      "memory usage: 1.4+ MB\n"
     ]
    }
   ],
   "source": [
    "df.info()"
   ]
  },
  {
   "cell_type": "code",
   "execution_count": 10,
   "id": "a96fa1e2-1360-4f2a-9d30-c980f66387a7",
   "metadata": {},
   "outputs": [
    {
     "data": {
      "text/plain": [
       "age          0\n",
       "job          0\n",
       "marital      0\n",
       "education    0\n",
       "default      0\n",
       "balance      0\n",
       "housing      0\n",
       "loan         0\n",
       "contact      0\n",
       "day          0\n",
       "month        0\n",
       "duration     0\n",
       "campaign     0\n",
       "pdays        0\n",
       "previous     0\n",
       "poutcome     0\n",
       "deposit      0\n",
       "dtype: int64"
      ]
     },
     "execution_count": 10,
     "metadata": {},
     "output_type": "execute_result"
    }
   ],
   "source": [
    "df.isnull().sum()"
   ]
  },
  {
   "cell_type": "markdown",
   "id": "e848aaf2-d9bd-45f2-a3ca-3c5e2437cf83",
   "metadata": {},
   "source": [
    "Como analisado, não existem valores nulos e todas as colunas vão ser de suma importancia para analisarmos meticulosamente todas as variaveis presentes para o sucesso ou melhora para um futuro projeto."
   ]
  },
  {
   "cell_type": "markdown",
   "id": "0eb5e9dd-65f2-44ef-972a-1051229488f0",
   "metadata": {},
   "source": [
    "**Analisando a distribuição de idade**"
   ]
  },
  {
   "cell_type": "code",
   "execution_count": 13,
   "id": "bd1ee065-5494-47df-8a08-62ac7e5b6f94",
   "metadata": {},
   "outputs": [
    {
     "data": {
      "image/png": "[encoded data removed]",
      "text/plain": [
       "<Figure size 640x480 with 1 Axes>"
      ]
     },
     "metadata": {},
     "output_type": "display_data"
    }
   ],
   "source": [
    "#Plotando a distribuição de idade\n",
    "sns.histplot(df,x = 'age');\n",
    "plt.xlabel('idade');\n",
    "plt.ylabel('Quantidade');\n",
    "plt.title('Distribuição de idade');"
   ]
  },
  {
   "cell_type": "markdown",
   "id": "02c70eed-6933-40a4-bf85-7b3ab7accd0f",
   "metadata": {},
   "source": [
    "Analisando o gráfico, vemos que a maioria das pessoas cadastradas tem entre 25 e 40 anos. E entre os menores números de quantidade fica entre os extremos."
   ]
  },
  {
   "cell_type": "markdown",
   "id": "a17fd4eb-2baa-4ded-a0b3-da94fa5e53a1",
   "metadata": {},
   "source": [
    "**Analisando os extremos das idades para uma melhor eficácia de aceitação de depósitos**"
   ]
  },
  {
   "cell_type": "code",
   "execution_count": 17,
   "id": "291c1c06-54c6-48a4-b502-2a9234b13d3e",
   "metadata": {},
   "outputs": [
    {
     "data": {
      "text/plain": [
       "139"
      ]
     },
     "execution_count": 17,
     "metadata": {},
     "output_type": "execute_result"
    }
   ],
   "source": [
    "idade_menor_23 = df[(df['age'] <= 23) & (df['deposit'] == 'yes')]\n",
    "idade_maior_60 = df[(df['age'] >= 60) & (df['deposit'] == 'yes')]\n",
    "idade_entre = df[(df['age'] >= 24) & (df['age'] <= 59) & (df['deposit'] == 'yes')]\n",
    "idade_menor_23.shape[0]"
   ]
  },
  {
   "cell_type": "code",
   "execution_count": 19,
   "id": "227717b3-0a6d-4148-9cbf-83f9033b3a6b",
   "metadata": {},
   "outputs": [
    {
     "data": {
      "text/plain": [
       "600"
      ]
     },
     "execution_count": 19,
     "metadata": {},
     "output_type": "execute_result"
    }
   ],
   "source": [
    "idade_maior_60.shape[0]"
   ]
  },
  {
   "cell_type": "code",
   "execution_count": 21,
   "id": "665f3706-a728-4337-a928-3b96d70c2195",
   "metadata": {},
   "outputs": [
    {
     "data": {
      "text/plain": [
       "410"
      ]
     },
     "execution_count": 21,
     "metadata": {},
     "output_type": "execute_result"
    }
   ],
   "source": [
    "idade_maior_60_aposentado = df[(df['age'] >= 60) & (df['deposit'] == 'yes') & (df['job'] == 'retired')]\n",
    "idade_maior_60_aposentado.shape[0]"
   ]
  },
  {
   "cell_type": "code",
   "execution_count": 23,
   "id": "100c62b8-200b-4c52-bc5f-0e3580c690bc",
   "metadata": {},
   "outputs": [
    {
     "data": {
      "text/plain": [
       "4550"
      ]
     },
     "execution_count": 23,
     "metadata": {},
     "output_type": "execute_result"
    }
   ],
   "source": [
    "idade_entre.shape[0]"
   ]
  },
  {
   "cell_type": "markdown",
   "id": "86debb86-aa17-41e9-a22b-2d55f700dc2e",
   "metadata": {},
   "source": [
    "A quantidade de jovens que aceitam o depósito é de 3% do valor total, já os maiores de 60 anos representa 13% do valor total, com isso o banco deveria fazer contas especifícas para jovens com tarifas reduzidas, benefícios e projetos sobre a introdução á educação financeira para capturar mais o interesse no jovem. Os maiores de 60 anos tem mais conta que os jovens porque eles precisam das contas bancárias para receber as aposentadorias, pensões e os rendimentos de investimentos. Fazendo a análise, 68% dos idosos maiores de 60 anos são aposentados. Porem o banco poderia fazer algumas campanhas de marketing ao incentivo de uso do dele, usar um suporte personalizado e aplicativos digitais simplificados para o uso cotidiano."
   ]
  },
  {
   "cell_type": "markdown",
   "id": "b2d2dc77-ca94-4e68-a779-c30fa29d5619",
   "metadata": {},
   "source": [
    "**Analisando se a taxa de aceitação varia entre os niveis de escolaridade**"
   ]
  },
  {
   "cell_type": "code",
   "execution_count": 27,
   "id": "e54047cb-5a09-4067-a8a0-a8ef3edb8a95",
   "metadata": {},
   "outputs": [],
   "source": [
    "escolaridade_primário = df[(df['education'] == 'primary') & (df['deposit'] == 'yes')]\n",
    "escolaridade_média = df[(df['education'] == 'secondary') & (df['deposit'] == 'yes')]\n",
    "escolaridade_superior = df[(df['education'] == 'tertiary') & (df['deposit'] == 'yes')]"
   ]
  },
  {
   "cell_type": "code",
   "execution_count": 29,
   "id": "485aa6d2-8d90-4405-8e37-e16aca7838d3",
   "metadata": {},
   "outputs": [
    {
     "data": {
      "text/plain": [
       "591"
      ]
     },
     "execution_count": 29,
     "metadata": {},
     "output_type": "execute_result"
    }
   ],
   "source": [
    "escolaridade_primário.shape[0]"
   ]
  },
  {
   "cell_type": "code",
   "execution_count": 31,
   "id": "bbab6a63-c2c5-46c2-ab55-5e79d0d0da94",
   "metadata": {},
   "outputs": [
    {
     "data": {
      "text/plain": [
       "2450"
      ]
     },
     "execution_count": 31,
     "metadata": {},
     "output_type": "execute_result"
    }
   ],
   "source": [
    "escolaridade_média.shape[0]"
   ]
  },
  {
   "cell_type": "code",
   "execution_count": 33,
   "id": "0e518792-e159-48ca-897f-a1bf957c7b0c",
   "metadata": {},
   "outputs": [
    {
     "data": {
      "text/plain": [
       "1996"
      ]
     },
     "execution_count": 33,
     "metadata": {},
     "output_type": "execute_result"
    }
   ],
   "source": [
    "escolaridade_superior.shape[0]"
   ]
  },
  {
   "cell_type": "markdown",
   "id": "9284fc8d-b237-408a-9e99-805d7a180543",
   "metadata": {},
   "source": [
    "As pessoas com escolaridade básica representam 11% do total da aceitação, com escolaridade média representam 48% e com a escolaridade superior 39%"
   ]
  },
  {
   "cell_type": "markdown",
   "id": "2fef14ef-bb06-4bda-998e-dfcd30b1ba0f",
   "metadata": {},
   "source": [
    "**Analise mais profunda da aceitação por nivel de escolaridade**"
   ]
  },
  {
   "cell_type": "code",
   "execution_count": 37,
   "id": "8c2cf852-4844-4dc2-8e31-9f99886c0fc5",
   "metadata": {},
   "outputs": [
    {
     "data": {
      "text/plain": [
       "job\n",
       "blue-collar    218\n",
       "retired        178\n",
       "housemaid       49\n",
       "unemployed      34\n",
       "services        29\n",
       "Name: count, dtype: int64"
      ]
     },
     "execution_count": 37,
     "metadata": {},
     "output_type": "execute_result"
    }
   ],
   "source": [
    "escolaridade_primário['job'].value_counts().head()"
   ]
  },
  {
   "cell_type": "code",
   "execution_count": 39,
   "id": "6b5b6fe5-99b2-4348-af74-dba0b7df205e",
   "metadata": {},
   "outputs": [
    {
     "data": {
      "text/plain": [
       "51.60744500846024"
      ]
     },
     "execution_count": 39,
     "metadata": {},
     "output_type": "execute_result"
    }
   ],
   "source": [
    "escolaridade_primário['age'].mean()"
   ]
  },
  {
   "cell_type": "code",
   "execution_count": 41,
   "id": "0ca0ada3-1728-4e4c-b348-44a3928b4609",
   "metadata": {},
   "outputs": [
    {
     "data": {
      "text/plain": [
       "previous\n",
       "0     418\n",
       "1      52\n",
       "2      37\n",
       "3      33\n",
       "4      15\n",
       "5      11\n",
       "6       6\n",
       "7       4\n",
       "12      3\n",
       "10      3\n",
       "8       3\n",
       "11      2\n",
       "22      1\n",
       "58      1\n",
       "13      1\n",
       "20      1\n",
       "Name: count, dtype: int64"
      ]
     },
     "execution_count": 41,
     "metadata": {},
     "output_type": "execute_result"
    }
   ],
   "source": [
    "escolaridade_primário['previous'].value_counts()"
   ]
  },
  {
   "cell_type": "code",
   "execution_count": 43,
   "id": "860f1840-1ec0-41eb-b7eb-a5f11d6e7a01",
   "metadata": {},
   "outputs": [],
   "source": [
    "escolaridade_primário_resultado= df[(df['education'] == 'primary') & (df['deposit'] == 'yes') & (df['previous'] > 0)]"
   ]
  },
  {
   "cell_type": "code",
   "execution_count": 45,
   "id": "14233617-a142-4504-b12c-4795aa790625",
   "metadata": {},
   "outputs": [
    {
     "data": {
      "text/plain": [
       "poutcome\n",
       "success    81\n",
       "failure    57\n",
       "other      35\n",
       "Name: count, dtype: int64"
      ]
     },
     "execution_count": 45,
     "metadata": {},
     "output_type": "execute_result"
    }
   ],
   "source": [
    "escolaridade_primário_resultado['poutcome'].value_counts()"
   ]
  },
  {
   "cell_type": "markdown",
   "id": "00c09a2b-e826-4758-9008-d9e3565dd014",
   "metadata": {},
   "source": [
    "Podemos colocar como causa de baixa adesão pelo nivel de escolaridade básica, a falta da educação financeira desde cedo, então o banco pode criar cursos e palestras para orientar sobre a educação financeira para esse grupo, outra caracteristica é a média de idade que está entre os idosos que citamos acima, então todos os programas que citei acima pode ser inserido a esse grupo e por fim os contatos realizados antes da campanha que estão com números muito abaixo, como podemos ver na célula acima 46% das pessoas que foram contatadas antes tiveram sucesso com o depósito, então otimizar os canais de comunicação pode gerar um sucesso maior."
   ]
  },
  {
   "cell_type": "markdown",
   "id": "01ac97e5-5e2c-4b34-b10b-e1b8b7449fc6",
   "metadata": {},
   "source": [
    "**Analisando se os clientes com empréstimos podem ter baixa adesão**"
   ]
  },
  {
   "cell_type": "code",
   "execution_count": 49,
   "id": "c218ad14-1f3d-4e2d-b8ea-3311beb5d663",
   "metadata": {},
   "outputs": [
    {
     "data": {
      "text/plain": [
       "484"
      ]
     },
     "execution_count": 49,
     "metadata": {},
     "output_type": "execute_result"
    }
   ],
   "source": [
    "adesão_emprestimo = df[(df['loan'] == 'yes') & (df['deposit'] == 'yes')]\n",
    "adesão_emprestimo.shape[0]"
   ]
  },
  {
   "cell_type": "code",
   "execution_count": 51,
   "id": "719ab3d9-de3e-4e6d-9569-5a6c2ee85702",
   "metadata": {},
   "outputs": [
    {
     "data": {
      "text/plain": [
       "4805"
      ]
     },
     "execution_count": 51,
     "metadata": {},
     "output_type": "execute_result"
    }
   ],
   "source": [
    "adesão_sem_emprestimo = df[(df['loan'] == 'no') & (df['deposit'] == 'yes')]\n",
    "adesão_sem_emprestimo.shape[0]"
   ]
  },
  {
   "cell_type": "markdown",
   "id": "a9ee6b3b-d9bc-4ebb-b926-d02cb97e2b57",
   "metadata": {},
   "source": [
    "Os emprestimos tendem a atrapalhar na adesão dos depósitos, vemos que apenas 10% das pessoas quem tem emprestimos aceitaram realizar os depósitos. As razões para a baixa adesão podem ser o compromentimento financeiro, pois o fluxo de caixa da pessoa pode ser comprometido devido aos pagamentos mensais das parcelas e os clientes podem perceber a oferta do depósito como secúndaria pois esta priorizando o pagamento das dividas. Uma solução estratégica para esse problema pode ser a criação de pacotes de benefícios combinados. O banco poderia oferecer descontos nas parcelas do empréstimo ou taxas de juros reduzidas para aqueles que aceitarem fazer depósitos, incentivando, assim, a adesão a esse produto. Essa abordagem não apenas alivia a pressão financeira do cliente, mas também pode ajudá-lo a melhorar seu fluxo de caixa, tornando o depósito uma opção mais atrativa."
   ]
  },
  {
   "cell_type": "markdown",
   "id": "7da8e699-9601-46fd-bf62-aa0d9cebd1e9",
   "metadata": {},
   "source": [
    "**Analisando o impacto da duração da chamada na taxa de aceitação**"
   ]
  },
  {
   "cell_type": "code",
   "execution_count": 83,
   "id": "2eb5360e-6ecc-49fd-97a2-7f2daf22f762",
   "metadata": {},
   "outputs": [
    {
     "data": {
      "text/plain": [
       "duration\n",
       "261    19\n",
       "226    17\n",
       "187    16\n",
       "229    16\n",
       "232    16\n",
       "301    15\n",
       "268    15\n",
       "158    15\n",
       "192    14\n",
       "212    14\n",
       "Name: count, dtype: int64"
      ]
     },
     "execution_count": 83,
     "metadata": {},
     "output_type": "execute_result"
    }
   ],
   "source": [
    "deposit_yes['duration'].value_counts().head(10)"
   ]
  },
  {
   "cell_type": "code",
   "execution_count": 85,
   "id": "0c1d8b54-5c43-48d5-8cf5-b6ea4be4c466",
   "metadata": {},
   "outputs": [
    {
     "data": {
      "text/plain": [
       "duration\n",
       "119    32\n",
       "90     32\n",
       "114    32\n",
       "85     31\n",
       "97     31\n",
       "161    31\n",
       "109    31\n",
       "77     30\n",
       "112    30\n",
       "73     30\n",
       "Name: count, dtype: int64"
      ]
     },
     "execution_count": 85,
     "metadata": {},
     "output_type": "execute_result"
    }
   ],
   "source": [
    "deposit_no = df[df['deposit'] == 'no']\n",
    "deposit_no['duration'].value_counts().head(10)"
   ]
  },
  {
   "cell_type": "markdown",
   "id": "5c735c14-8434-4637-b285-ea0c91334b48",
   "metadata": {},
   "source": [
    "Podemos analisar que conversar mais longas, em torno de 3 minutos e 5 minutos tem uma aceitação maior do que conversas curtas entre 1 minuto e 2 minutos, que tem a taxa de rejeição maior. Para melhorar esse indice, podemos sugerir um treinamento mais aprofundado á equipe de telecomunicações e com dados mais aprofundados, podemos otimizar os horários das ligações, afim de uma taxa maior de aceitação de depositos."
   ]
  },
  {
   "cell_type": "markdown",
   "id": "17ec77ab-2fb5-4c54-97ed-62b89640869e",
   "metadata": {},
   "source": [
    "**Analisando a relação entre a média do saldo bancário e a aceitação dos depósitos**"
   ]
  },
  {
   "cell_type": "code",
   "execution_count": 89,
   "id": "d67e81a1-94a0-497b-852f-efec8d98f1a2",
   "metadata": {},
   "outputs": [
    {
     "data": {
      "image/png": "[encoded data removed]",
      "text/plain": [
       "<Figure size 640x480 with 1 Axes>"
      ]
     },
     "metadata": {},
     "output_type": "display_data"
    }
   ],
   "source": [
    "deposit_yes = df[df['deposit'] == 'yes']\n",
    "sns.histplot(deposit_yes, x = 'balance', bins = 15);\n",
    "plt.xlabel('Saldo');\n",
    "plt.ylabel('Pessoas');\n",
    "plt.title('Saldo x Pessoas');"
   ]
  },
  {
   "cell_type": "markdown",
   "id": "98077208-d5c8-4f02-804c-811bfd6cdef3",
   "metadata": {},
   "source": [
    "Podemos ver que a média de saldo bancária para a aceitação de depósitos é de $1804, a maior parte do gráfico esta concentrado entre o 0, sendo o saldo bancário negativo ou positivo."
   ]
  },
  {
   "cell_type": "markdown",
   "id": "442392bd-b992-41ed-8c27-271ca0f0e634",
   "metadata": {},
   "source": [
    "**Analises dos meses com maior aceitação dos depósitos**"
   ]
  },
  {
   "cell_type": "code",
   "execution_count": 93,
   "id": "2a0a8929-3b30-41e7-ab3b-237171843f18",
   "metadata": {},
   "outputs": [
    {
     "data": {
      "image/png": "[encoded data removed]",
      "text/plain": [
       "<Figure size 640x480 with 1 Axes>"
      ]
     },
     "metadata": {},
     "output_type": "display_data"
    }
   ],
   "source": [
    "#REINDEX DOS MESES PORQUE ESTAVAM FORA DE ORDEM\n",
    "month_order = ['jan', 'feb', 'mar', 'apr', 'may', 'jun', 'jul', 'aug', 'sep', 'oct', 'nov', 'dec']\n",
    "df['month'] = pd.Categorical(df['month'], categories=month_order, ordered=True)\n",
    "sns.histplot(data = df, x = 'month', bins = 45);\n",
    "plt.xlabel('Mês');\n",
    "plt.ylabel('Quantidade');\n",
    "plt.title('Meses x Depositos');"
   ]
  },
  {
   "cell_type": "markdown",
   "id": "b2324f3a-4c69-40fc-8e49-1765178c8aad",
   "metadata": {},
   "source": [
    "Podemos ver que os meses de Maio, Julho e Junho tiveram uma maior aceitação dos depósitos."
   ]
  },
  {
   "cell_type": "markdown",
   "id": "d81fc675-5805-4e99-bc5d-45174f815aff",
   "metadata": {},
   "source": [
    "**Analise do histórico da campanha anterior com a atual**"
   ]
  },
  {
   "cell_type": "code",
   "execution_count": 97,
   "id": "63910391-bc59-44a4-9066-62f266b93831",
   "metadata": {},
   "outputs": [
    {
     "data": {
      "text/plain": [
       "poutcome\n",
       "unknown    3386\n",
       "success     978\n",
       "failure     618\n",
       "other       307\n",
       "Name: count, dtype: int64"
      ]
     },
     "execution_count": 97,
     "metadata": {},
     "output_type": "execute_result"
    }
   ],
   "source": [
    "deposit_yes['poutcome'].value_counts()"
   ]
  },
  {
   "cell_type": "code",
   "execution_count": 99,
   "id": "784d0b23-3c58-4acc-b32a-d9504a7a1e66",
   "metadata": {},
   "outputs": [
    {
     "data": {
      "text/plain": [
       "poutcome\n",
       "unknown    4940\n",
       "failure     610\n",
       "other       230\n",
       "success      93\n",
       "Name: count, dtype: int64"
      ]
     },
     "execution_count": 99,
     "metadata": {},
     "output_type": "execute_result"
    }
   ],
   "source": [
    "deposit_no['poutcome'].value_counts()"
   ]
  },
  {
   "cell_type": "code",
   "execution_count": 101,
   "id": "5aa2c20b-a73e-4b67-a672-77f7c04fd8ea",
   "metadata": {},
   "outputs": [
    {
     "data": {
      "text/plain": [
       "8324"
      ]
     },
     "execution_count": 101,
     "metadata": {},
     "output_type": "execute_result"
    }
   ],
   "source": [
    "df[(df['poutcome'] == 'unknown') & (df['pdays'] == -1)].shape[0]"
   ]
  },
  {
   "cell_type": "markdown",
   "id": "7f3d8916-f8f2-4a3d-a26a-a5a8cf1fbe6f",
   "metadata": {},
   "source": [
    "O primeiro ponto a ser destacado é a presença de muitos valores desconhecidos (unknown) na coluna poutcome, o que compromete a análise comparativa entre campanhas. Esses valores representam, na maioria dos casos, clientes que não foram contatados anteriormente. Apenas 2 desses casos são decorrentes de falhas na coleta ou registro dos dados. Isso ressalta a necessidade de melhorar o rastreamento de informações em campanhas futuras.\n",
    "Na comparação entre as campanhas, observamos que a taxa de aceitação da campanha atual foi 47%, enquanto a rejeição ficou em 53%. Já na campanha anterior, a aceitação foi de apenas 37%, com rejeição de 42%. Esses números indicam que a campanha atual foi mais eficiente, possivelmente devido à abordagem mais focada, já que o número total de pessoas abordadas foi menor.\n",
    "Outro ponto importante é que a taxa de sucesso em atrair clientes que já aceitaram anteriormente foi significativamente maior do que a taxa de reconversão de clientes que rejeitaram no passado. Isso sugere que oferecer benefícios específicos para um segundo depósito pode ser uma estratégia eficaz para manter a adesão de clientes recorrentes.\n",
    "Por fim, para os clientes que rejeitaram ambas as campanhas, é necessário explorar outras formas de engajamento. Sugerimos a criação de campanhas de marketing informativas, com foco em educar e atrair esses clientes, mostrando as vantagens dos produtos oferecidos. Além disso, a recompensa à equipe de vendas, pelos esforços em trazer clientes recorrentes, pode funcionar como uma motivação adicional para melhorar os resultados em campanhas futuras."
   ]
  },
  {
   "cell_type": "markdown",
   "id": "ebd67ee4-2e14-4d97-9e84-a57a25bf0b3f",
   "metadata": {},
   "source": [
    "**Analise da relação do contact e aceitação dos depósitos**"
   ]
  },
  {
   "cell_type": "code",
   "execution_count": 105,
   "id": "9a99126b-0217-45af-8ff4-0f69d469ba42",
   "metadata": {},
   "outputs": [
    {
     "data": {
      "text/plain": [
       "contact\n",
       "cellular     4369\n",
       "unknown       530\n",
       "telephone     390\n",
       "Name: count, dtype: int64"
      ]
     },
     "execution_count": 105,
     "metadata": {},
     "output_type": "execute_result"
    }
   ],
   "source": [
    "deposit_yes['contact'].value_counts()"
   ]
  },
  {
   "cell_type": "code",
   "execution_count": 107,
   "id": "98e9f18c-8fa3-4f5a-b875-a84e14ddcdb4",
   "metadata": {},
   "outputs": [
    {
     "data": {
      "text/plain": [
       "contact\n",
       "cellular     3673\n",
       "unknown      1816\n",
       "telephone     384\n",
       "Name: count, dtype: int64"
      ]
     },
     "execution_count": 107,
     "metadata": {},
     "output_type": "execute_result"
    }
   ],
   "source": [
    "deposit_no['contact'].value_counts()"
   ]
  },
  {
   "cell_type": "markdown",
   "id": "1976a983-438e-41e5-a4eb-6f918ddd40aa",
   "metadata": {},
   "source": [
    "A análise revela uma presença massiva de dados desconhecidos (unknown), especialmente em depósitos não aceitos, o que compromete a capacidade de entender quais métodos de contato foram usados e suas respectivas taxas de sucesso. É essencial melhorar a coleta e o armazenamento desses dados para direcionar ações futuras de forma mais eficiente. Se fosse possível identificar a origem desses dados, estratégias mais direcionadas poderiam ser aplicadas, aumentando as taxas de sucesso.\n",
    "Entre os canais de contato, o celular se destaca como o mais eficiente, com uma taxa de aceitação de 39% e rejeição de 32%. Já o telefone fixo, menos utilizado atualmente, mostra-se menos eficaz. Para melhorar os resultados, sugere-se registrar números de celular e e-mails, além de diversificar os canais de comunicação, incluindo campanhas de marketing digital em redes sociais. Aproveitar o potencial do contato via celular, já com bons resultados, também é uma oportunidade a ser explorada, especialmente com abordagens personalizadas e o uso de tecnologias modernas. "
   ]
  },
  {
   "cell_type": "markdown",
   "id": "516fe2ef-64b9-472c-97af-8ff8988e888e",
   "metadata": {},
   "source": [
    "**Analise da aceitação dos clientes com ou sem crédito habitacional**"
   ]
  },
  {
   "cell_type": "code",
   "execution_count": 123,
   "id": "d380b13a-1d28-499d-82a0-7851fa3d0ebf",
   "metadata": {},
   "outputs": [
    {
     "data": {
      "text/plain": [
       "housing\n",
       "no     3354\n",
       "yes    1935\n",
       "Name: count, dtype: int64"
      ]
     },
     "execution_count": 123,
     "metadata": {},
     "output_type": "execute_result"
    }
   ],
   "source": [
    "deposit_yes['housing'].value_counts()"
   ]
  },
  {
   "cell_type": "code",
   "execution_count": 125,
   "id": "cd1136c6-6305-4d98-a8a7-8606bc752d1f",
   "metadata": {},
   "outputs": [
    {
     "data": {
      "text/plain": [
       "housing\n",
       "yes    3346\n",
       "no     2527\n",
       "Name: count, dtype: int64"
      ]
     },
     "execution_count": 125,
     "metadata": {},
     "output_type": "execute_result"
    }
   ],
   "source": [
    "deposit_no['housing'].value_counts()"
   ]
  },
  {
   "cell_type": "markdown",
   "id": "30aba304-807a-4fe2-9c9b-139d6d4e3899",
   "metadata": {},
   "source": [
    "Percebemos que clientes que realizaram os depositos não possuem créditos habitacionais, o que indica uma flexibilidade financeira maior, pois não tem o comprometimento do imovel financiado. Por outro lado, os clientes que não aceitaram o depósito possuem o crédito ou empréstimo habitacional, o que pode impactar na aceitação do deposito pois parte da sua renda já está voltada ao comprometimento do crédito. Uma solução que já foi citada e pode ser utilizada nessa ocasião seria os pacotes de beneficios combinados, onde o banco ofereceria um desconto das parcelas do crédito se a pessoa realizasse o depósito. Essa abordagem não apenas incentivaria a adesão aos depósitos, mas também proporcionaria um alívio financeiro para os clientes, aumentando a percepção de valor do produto oferecido pelo banco."
   ]
  },
  {
   "cell_type": "markdown",
   "id": "a61d6b05-43c5-4715-a64d-7a6302e0c603",
   "metadata": {},
   "source": [
    "**CONCLUSÃO**"
   ]
  },
  {
   "cell_type": "markdown",
   "id": "66fd95a4-a5dc-4866-8967-22e8fe37b3f0",
   "metadata": {},
   "source": [
    "Com base nas análises realizadas, é possível concluir que o desempenho da campanha de depósitos bancários está diretamente relacionado a diversos fatores demográficos, financeiros e comportamentais dos clientes. A presença de dados desconhecidos, representados pelo valor \"unknown\" em variáveis como **poutcome** e **contact**, compromete parcialmente a profundidade da análise, uma vez que impede a avaliação precisa de certos comportamentos e resultados. É essencial que o banco melhore seus processos de coleta e armazenamento de dados, garantindo maior transparência e rastreabilidade para otimizar as campanhas futuras.\n",
    "\r\n",
    "A análise revelou que clientes mais jovens, com menos de 23 anos, possuem uma taxa de aceitação significativamente baixa, representando apen s 3% do total de depósitos. Essa baixa adesão pode estar relacionada à falta de educação financeira e experiência com produtos bancários. Por outro lado, clientes com mais de 60 anos, que representam 13% dos depósitos, demonstram uma maior aceitação devido à dependência de contas para aposentadorias e rendimentos. Estratégias como a criação de contas específicas para jovens, com tarifas reduzidas e programas de educação financeira, e a adaptação de serviços para idosos, com suporte personalizado e aplicativos simplificados, podem melhorar a experiência desses grupos e aumentar a adesã.\r\n",
    "\r\n",
    "A escolaridade também se mostrou um fator relevante, com clientes de nível superior representando 39% dos depósitos, enquanto aqueles com escolaridade básica correspondem a apenas 11%. Isso reforça a necessidade de iniciativas voltadas à educação financeira, especialmente para clientes de menor escolaridade, a fim de capacitá-los a tomar decisões mais informadas sobre produtos financeiros. Além disso, a análise apontou que clientes com empréstimos ou créditos habitacionais tendem a apresentar baixa adesão aos depósitos, com apenas 10% deles aceitando a oferta. Uma solução viável seria a introdução de pacotes de benefícios combinados, oferecendo descontos em parcelas de empréstimos para clientes que realizarem depósitos, incentivando a adesão e aliviando o comprometimento financero.\r\n",
    "\r\n",
    "Outro fator importante identificado foi a duração das chamadas, onde conversas mais longas, entre três e cinco minutos, resultaram em uma maior taxa de aceitação, enquanto chamadas mais curtas, de um a dois minutos, tiveram taxas de rejeição mais altas. Isso indica a necessidade de treinamentos mais aprofundados para a equipe de vendas, a fim de melhorar a abordagem e maximizar o engajamento durante as ligações. Além disso, o celular se destacou como o canal mais eficiente, com 39% de aceitação, reforçando a importância de investir em registros atualizados de contato, como números de celular e e-mails, e expandir para campanhas digitais em redes soiais.\r\n",
    "\r\n",
    "Por fim, a comparação entre a campanha atual e as anteriores mostrou que a abordagem focada desta campanha resultou em uma taxa de aceitação de 47%, superior aos 37% da campanha anterior. Isso indica que estratégias direcionadas, como a oferta de benefícios específicos para clientes recorrentes e a exploração de novos canais de comunicação, podem ser altamente eficazes. No entanto, é fundamental que o banco também se concentre em engajar clientes que rejeitaram ambas as campanhas, utilizando campanhas informativas e personalizadas para destacar os benefícios dos produtos ofeecidos.\r\n",
    "\r\n",
    "Em resumo, com base nas análises realizadas e nos insights obtidos, recomenda-se ao banco priorizar melhorias na coleta e uso de dados, investir em educação financeira, diversificar os canais de comunicação e personalizar as estratégias para diferentes perfis de clientes. Essas ações podem não apenas aumentar a taxa de aceitação de depósitos, mas também fortalecer a relação entre o banco e seus clientes, garantindo um crescimento sustentável e alinhado às suas necessidades.\r\n"
   ]
  }
 ],
 "metadata": {
  "kernelspec": {
   "display_name": "Python 3 (ipykernel)",
   "language": "python",
   "name": "python3"
  },
  "language_info": {
   "codemirror_mode": {
    "name": "ipython",
    "version": 3
   },
   "file_extension": ".py",
   "mimetype": "text/x-python",
   "name": "python",
   "nbconvert_exporter": "python",
   "pygments_lexer": "ipython3",
   "version": "3.12.4"
  }
 },
 "nbformat": 4,
 "nbformat_minor": 5
}
